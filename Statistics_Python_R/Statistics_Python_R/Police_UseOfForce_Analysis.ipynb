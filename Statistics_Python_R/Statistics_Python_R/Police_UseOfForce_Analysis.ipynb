{
 "cells": [
  {
   "cell_type": "code",
   "execution_count": 1,
   "metadata": {},
   "outputs": [],
   "source": [
    "import pandas as pd\n",
    "import datetime\n",
    "import numpy as np\n",
    "import string\n",
    "import time\n",
    "import scipy.stats as stats\n",
    "import random\n",
    "from datetime import datetime\n",
    "import matplotlib.pyplot as plt"
   ]
  },
  {
   "cell_type": "code",
   "execution_count": 2,
   "metadata": {},
   "outputs": [],
   "source": [
    "Demo_1 = (\"target_files/nbhd_race_sql.csv\")\n",
    "Demo_2 = (\"target_files/MLS_Income_by_Neighborhoods.csv\")\n",
    "Demo_3 = (\"target_files/cmnty_race_sql.csv\")\n",
    "Demo_4 = (\"target_files/MLS_Income_by_Community.csv\")\n",
    "Force = (\"target_files/MLS_Police_Use_Of_Force_Cleaned_Data.csv\")\n",
    "Incident = (\"target_files/Police_Incidents.csv\")\n",
    "Neigh = (\"target_files/MLS_Neighborhoods.csv\")\n",
    "corr = (\"target_files/Neighborhood_forCorr.csv\")"
   ]
  },
  {
   "cell_type": "code",
   "execution_count": 3,
   "metadata": {},
   "outputs": [
    {
     "name": "stderr",
     "output_type": "stream",
     "text": [
      "/opt/anaconda3/envs/PythonData/lib/python3.7/site-packages/IPython/core/interactiveshell.py:3063: DtypeWarning: Columns (4) have mixed types.Specify dtype option on import or set low_memory=False.\n",
      "  interactivity=interactivity, compiler=compiler, result=result)\n"
     ]
    }
   ],
   "source": [
    "Race_N = pd.read_csv(Demo_1)\n",
    "Income_N = pd.read_csv(Demo_2)\n",
    "Race_C = pd.read_csv(Demo_3)\n",
    "Income_C = pd.read_csv(Demo_4)\n",
    "Force_df = pd.read_csv(Force)\n",
    "Incident_df = pd.read_csv(Incident)\n",
    "N_ID = pd.read_csv(Neigh)\n",
    "corr_df = pd.read_csv(corr)"
   ]
  },
  {
   "cell_type": "code",
   "execution_count": 4,
   "metadata": {},
   "outputs": [],
   "source": [
    "N_ID = N_ID.drop(columns=[\"community_id\"])\n",
    "#N_ID"
   ]
  },
  {
   "cell_type": "code",
   "execution_count": 5,
   "metadata": {},
   "outputs": [],
   "source": [
    "Force_df['count']=1 "
   ]
  },
  {
   "cell_type": "code",
   "execution_count": 6,
   "metadata": {
    "scrolled": true
   },
   "outputs": [
    {
     "data": {
      "text/plain": [
       "30054"
      ]
     },
     "execution_count": 6,
     "metadata": {},
     "output_type": "execute_result"
    }
   ],
   "source": [
    "Force_df['count'].sum(axis = 0, skipna = True) "
   ]
  },
  {
   "cell_type": "code",
   "execution_count": 7,
   "metadata": {},
   "outputs": [],
   "source": [
    "na_neigh = Force_df[Force_df['neighborhood'].isnull( )]\n",
    "#na_neigh"
   ]
  },
  {
   "cell_type": "code",
   "execution_count": 8,
   "metadata": {},
   "outputs": [],
   "source": [
    "Incident_df['count'] =1"
   ]
  },
  {
   "cell_type": "markdown",
   "metadata": {},
   "source": [
    "# Demo Table Cleanup"
   ]
  },
  {
   "cell_type": "code",
   "execution_count": 9,
   "metadata": {},
   "outputs": [],
   "source": [
    "income_final = pd.merge(Income_N, N_ID, on='neighborhood_id', how= 'left')\n",
    "#income_final"
   ]
  },
  {
   "cell_type": "code",
   "execution_count": 10,
   "metadata": {},
   "outputs": [],
   "source": [
    "income_final_2 = income_final.rename(columns={\"name\":\"neighborhood\"})\n",
    "#income_final_2"
   ]
  },
  {
   "cell_type": "code",
   "execution_count": 11,
   "metadata": {},
   "outputs": [],
   "source": [
    "race_final = pd.merge(Race_N, N_ID, on='neighborhood_id', how= 'left')\n",
    "#race_final"
   ]
  },
  {
   "cell_type": "code",
   "execution_count": 12,
   "metadata": {},
   "outputs": [],
   "source": [
    "race_final_2 = race_final[['name','white_pct','of_color_pct']]"
   ]
  },
  {
   "cell_type": "code",
   "execution_count": 13,
   "metadata": {},
   "outputs": [],
   "source": [
    "race_final_2 = race_final_2.rename(columns={\"name\":\"neighborhood\"})"
   ]
  },
  {
   "cell_type": "markdown",
   "metadata": {},
   "source": [
    "# Force Data Pivoting"
   ]
  },
  {
   "cell_type": "code",
   "execution_count": 14,
   "metadata": {},
   "outputs": [],
   "source": [
    "FD_1 = pd.pivot_table(Force_df,index=['neighborhood','neighborhood_id'],values=['count'],aggfunc=[np.sum])"
   ]
  },
  {
   "cell_type": "code",
   "execution_count": 15,
   "metadata": {
    "scrolled": false
   },
   "outputs": [
    {
     "data": {
      "text/html": [
       "<div>\n",
       "<style scoped>\n",
       "    .dataframe tbody tr th:only-of-type {\n",
       "        vertical-align: middle;\n",
       "    }\n",
       "\n",
       "    .dataframe tbody tr th {\n",
       "        vertical-align: top;\n",
       "    }\n",
       "\n",
       "    .dataframe thead tr th {\n",
       "        text-align: left;\n",
       "    }\n",
       "\n",
       "    .dataframe thead tr:last-of-type th {\n",
       "        text-align: right;\n",
       "    }\n",
       "</style>\n",
       "<table border=\"1\" class=\"dataframe\">\n",
       "  <thead>\n",
       "    <tr>\n",
       "      <th></th>\n",
       "      <th></th>\n",
       "      <th>sum</th>\n",
       "    </tr>\n",
       "    <tr>\n",
       "      <th></th>\n",
       "      <th></th>\n",
       "      <th>count</th>\n",
       "    </tr>\n",
       "    <tr>\n",
       "      <th>neighborhood</th>\n",
       "      <th>neighborhood_id</th>\n",
       "      <th></th>\n",
       "    </tr>\n",
       "  </thead>\n",
       "  <tbody>\n",
       "    <tr>\n",
       "      <th>Armatage</th>\n",
       "      <th>1</th>\n",
       "      <td>36</td>\n",
       "    </tr>\n",
       "  </tbody>\n",
       "</table>\n",
       "</div>"
      ],
      "text/plain": [
       "                               sum\n",
       "                             count\n",
       "neighborhood neighborhood_id      \n",
       "Armatage     1                  36"
      ]
     },
     "execution_count": 15,
     "metadata": {},
     "output_type": "execute_result"
    }
   ],
   "source": [
    "FD_1.head(1)"
   ]
  },
  {
   "cell_type": "code",
   "execution_count": 16,
   "metadata": {},
   "outputs": [],
   "source": [
    "FD_1= FD_1.rename(columns={\"sum\":\"police_force_incidents\"})\n",
    "FD_1.columns = FD_1.columns.map('_'.join)"
   ]
  },
  {
   "cell_type": "code",
   "execution_count": 17,
   "metadata": {},
   "outputs": [
    {
     "data": {
      "text/html": [
       "<div>\n",
       "<style scoped>\n",
       "    .dataframe tbody tr th:only-of-type {\n",
       "        vertical-align: middle;\n",
       "    }\n",
       "\n",
       "    .dataframe tbody tr th {\n",
       "        vertical-align: top;\n",
       "    }\n",
       "\n",
       "    .dataframe thead th {\n",
       "        text-align: right;\n",
       "    }\n",
       "</style>\n",
       "<table border=\"1\" class=\"dataframe\">\n",
       "  <thead>\n",
       "    <tr style=\"text-align: right;\">\n",
       "      <th></th>\n",
       "      <th></th>\n",
       "      <th>police_force_incidents_count</th>\n",
       "    </tr>\n",
       "    <tr>\n",
       "      <th>neighborhood</th>\n",
       "      <th>neighborhood_id</th>\n",
       "      <th></th>\n",
       "    </tr>\n",
       "  </thead>\n",
       "  <tbody>\n",
       "    <tr>\n",
       "      <th>Armatage</th>\n",
       "      <th>1</th>\n",
       "      <td>36</td>\n",
       "    </tr>\n",
       "    <tr>\n",
       "      <th>Audubon Park</th>\n",
       "      <th>10</th>\n",
       "      <td>165</td>\n",
       "    </tr>\n",
       "  </tbody>\n",
       "</table>\n",
       "</div>"
      ],
      "text/plain": [
       "                              police_force_incidents_count\n",
       "neighborhood neighborhood_id                              \n",
       "Armatage     1                                          36\n",
       "Audubon Park 10                                        165"
      ]
     },
     "execution_count": 17,
     "metadata": {},
     "output_type": "execute_result"
    }
   ],
   "source": [
    "FD_1.head(2)"
   ]
  },
  {
   "cell_type": "code",
   "execution_count": 18,
   "metadata": {},
   "outputs": [],
   "source": [
    "FD_Prob = pd.pivot_table(Force_df,index=['subject_race','neighborhood'],values=['count'],aggfunc=[np.sum])"
   ]
  },
  {
   "cell_type": "code",
   "execution_count": 19,
   "metadata": {},
   "outputs": [
    {
     "data": {
      "text/html": [
       "<div>\n",
       "<style scoped>\n",
       "    .dataframe tbody tr th:only-of-type {\n",
       "        vertical-align: middle;\n",
       "    }\n",
       "\n",
       "    .dataframe tbody tr th {\n",
       "        vertical-align: top;\n",
       "    }\n",
       "\n",
       "    .dataframe thead tr th {\n",
       "        text-align: left;\n",
       "    }\n",
       "\n",
       "    .dataframe thead tr:last-of-type th {\n",
       "        text-align: right;\n",
       "    }\n",
       "</style>\n",
       "<table border=\"1\" class=\"dataframe\">\n",
       "  <thead>\n",
       "    <tr>\n",
       "      <th></th>\n",
       "      <th></th>\n",
       "      <th>sum</th>\n",
       "    </tr>\n",
       "    <tr>\n",
       "      <th></th>\n",
       "      <th></th>\n",
       "      <th>count</th>\n",
       "    </tr>\n",
       "    <tr>\n",
       "      <th>subject_race</th>\n",
       "      <th>neighborhood</th>\n",
       "      <th></th>\n",
       "    </tr>\n",
       "  </thead>\n",
       "  <tbody>\n",
       "    <tr>\n",
       "      <th rowspan=\"5\" valign=\"top\">Asian</th>\n",
       "      <th>Bancroft</th>\n",
       "      <td>2</td>\n",
       "    </tr>\n",
       "    <tr>\n",
       "      <th>Bottineau</th>\n",
       "      <td>2</td>\n",
       "    </tr>\n",
       "    <tr>\n",
       "      <th>Bryn Mawr</th>\n",
       "      <td>4</td>\n",
       "    </tr>\n",
       "    <tr>\n",
       "      <th>Central</th>\n",
       "      <td>1</td>\n",
       "    </tr>\n",
       "    <tr>\n",
       "      <th>Cleveland</th>\n",
       "      <td>3</td>\n",
       "    </tr>\n",
       "    <tr>\n",
       "      <th>...</th>\n",
       "      <th>...</th>\n",
       "      <td>...</td>\n",
       "    </tr>\n",
       "    <tr>\n",
       "      <th rowspan=\"5\" valign=\"top\">not recorded</th>\n",
       "      <th>Ventura Village</th>\n",
       "      <td>3</td>\n",
       "    </tr>\n",
       "    <tr>\n",
       "      <th>Webber - Camden</th>\n",
       "      <td>14</td>\n",
       "    </tr>\n",
       "    <tr>\n",
       "      <th>Whittier</th>\n",
       "      <td>6</td>\n",
       "    </tr>\n",
       "    <tr>\n",
       "      <th>Willard - Hay</th>\n",
       "      <td>4</td>\n",
       "    </tr>\n",
       "    <tr>\n",
       "      <th>Windom</th>\n",
       "      <td>1</td>\n",
       "    </tr>\n",
       "  </tbody>\n",
       "</table>\n",
       "<p>445 rows × 1 columns</p>\n",
       "</div>"
      ],
      "text/plain": [
       "                               sum\n",
       "                             count\n",
       "subject_race neighborhood         \n",
       "Asian        Bancroft            2\n",
       "             Bottineau           2\n",
       "             Bryn Mawr           4\n",
       "             Central             1\n",
       "             Cleveland           3\n",
       "...                            ...\n",
       "not recorded Ventura Village     3\n",
       "             Webber - Camden    14\n",
       "             Whittier            6\n",
       "             Willard - Hay       4\n",
       "             Windom              1\n",
       "\n",
       "[445 rows x 1 columns]"
      ]
     },
     "execution_count": 19,
     "metadata": {},
     "output_type": "execute_result"
    }
   ],
   "source": [
    "FD_Prob"
   ]
  },
  {
   "cell_type": "code",
   "execution_count": 20,
   "metadata": {},
   "outputs": [],
   "source": [
    "FD_Prob= FD_Prob.rename(columns={\"sum\":\"police_force_incidents\"})\n",
    "FD_Prob.columns = FD_Prob.columns.map('_'.join)"
   ]
  },
  {
   "cell_type": "code",
   "execution_count": 21,
   "metadata": {},
   "outputs": [
    {
     "data": {
      "text/html": [
       "<div>\n",
       "<style scoped>\n",
       "    .dataframe tbody tr th:only-of-type {\n",
       "        vertical-align: middle;\n",
       "    }\n",
       "\n",
       "    .dataframe tbody tr th {\n",
       "        vertical-align: top;\n",
       "    }\n",
       "\n",
       "    .dataframe thead th {\n",
       "        text-align: right;\n",
       "    }\n",
       "</style>\n",
       "<table border=\"1\" class=\"dataframe\">\n",
       "  <thead>\n",
       "    <tr style=\"text-align: right;\">\n",
       "      <th></th>\n",
       "      <th></th>\n",
       "      <th>police_force_incidents_count</th>\n",
       "    </tr>\n",
       "    <tr>\n",
       "      <th>subject_race</th>\n",
       "      <th>neighborhood</th>\n",
       "      <th></th>\n",
       "    </tr>\n",
       "  </thead>\n",
       "  <tbody>\n",
       "    <tr>\n",
       "      <th rowspan=\"2\" valign=\"top\">Asian</th>\n",
       "      <th>Bancroft</th>\n",
       "      <td>2</td>\n",
       "    </tr>\n",
       "    <tr>\n",
       "      <th>Bottineau</th>\n",
       "      <td>2</td>\n",
       "    </tr>\n",
       "  </tbody>\n",
       "</table>\n",
       "</div>"
      ],
      "text/plain": [
       "                           police_force_incidents_count\n",
       "subject_race neighborhood                              \n",
       "Asian        Bancroft                                 2\n",
       "             Bottineau                                2"
      ]
     },
     "execution_count": 21,
     "metadata": {},
     "output_type": "execute_result"
    }
   ],
   "source": [
    "FD_Prob.head(2)"
   ]
  },
  {
   "cell_type": "code",
   "execution_count": 22,
   "metadata": {},
   "outputs": [],
   "source": [
    "sr_cor_3 = pd.pivot_table(Force_df,index=['neighborhood','subject_race'],values=['count'],aggfunc=[np.sum])"
   ]
  },
  {
   "cell_type": "code",
   "execution_count": 23,
   "metadata": {},
   "outputs": [],
   "source": [
    "#sr_cor_3"
   ]
  },
  {
   "cell_type": "code",
   "execution_count": 24,
   "metadata": {},
   "outputs": [],
   "source": [
    "sr_cor_3= sr_cor_3.rename(columns={\"sum\":\"police_incidents\"})\n",
    "sr_cor_3.columns = sr_cor_3.columns.map('_'.join)\n",
    "#sr_cor_3"
   ]
  },
  {
   "cell_type": "code",
   "execution_count": 25,
   "metadata": {},
   "outputs": [],
   "source": [
    "sr_cor_3=sr_cor_3.reset_index()"
   ]
  },
  {
   "cell_type": "code",
   "execution_count": 26,
   "metadata": {
    "scrolled": true
   },
   "outputs": [],
   "source": [
    "#sr_cor_3['police_incidents_count'] = sr_cor_3['police_incidents_count'].fillna(0)"
   ]
  },
  {
   "cell_type": "code",
   "execution_count": 27,
   "metadata": {},
   "outputs": [],
   "source": [
    "#sr_cor_3 \n",
    "sr_cor_3 ['subject_race'] = sr_cor_3 ['subject_race'].replace(['Asian', 'Black','Native American','Other / Mixed Race','Pacific Islander'], 'POC')\n",
    "sr_cor_3 ['subject_race'] = sr_cor_3 ['subject_race'].replace(['not recorded','Unknown'], 'NA')#sr_cor_3 ['subject_race'] = sr_cor_3 ['subject_race'].replace(['not recorded'], 'NA')\n"
   ]
  },
  {
   "cell_type": "code",
   "execution_count": 28,
   "metadata": {
    "scrolled": true
   },
   "outputs": [],
   "source": [
    "#sr_cor_6\n",
    "sr_cor_6 = pd.pivot_table(sr_cor_3,index=['neighborhood'],columns=['subject_race'],values=['police_incidents_count'],aggfunc=[np.sum])"
   ]
  },
  {
   "cell_type": "code",
   "execution_count": 29,
   "metadata": {},
   "outputs": [],
   "source": [
    "sr_cor_6= sr_cor_6.rename(columns={\"sum\":\" \"})\n",
    "sr_cor_6.columns = sr_cor_6.columns.map('_'.join)"
   ]
  },
  {
   "cell_type": "code",
   "execution_count": 30,
   "metadata": {
    "scrolled": true
   },
   "outputs": [],
   "source": [
    "sr_cor_6=sr_cor_6.reset_index()\n",
    "\n"
   ]
  },
  {
   "cell_type": "code",
   "execution_count": 31,
   "metadata": {},
   "outputs": [
    {
     "data": {
      "text/html": [
       "<div>\n",
       "<style scoped>\n",
       "    .dataframe tbody tr th:only-of-type {\n",
       "        vertical-align: middle;\n",
       "    }\n",
       "\n",
       "    .dataframe tbody tr th {\n",
       "        vertical-align: top;\n",
       "    }\n",
       "\n",
       "    .dataframe thead th {\n",
       "        text-align: right;\n",
       "    }\n",
       "</style>\n",
       "<table border=\"1\" class=\"dataframe\">\n",
       "  <thead>\n",
       "    <tr style=\"text-align: right;\">\n",
       "      <th></th>\n",
       "      <th>neighborhood</th>\n",
       "      <th>_police_incidents_count_NA</th>\n",
       "      <th>_police_incidents_count_POC</th>\n",
       "      <th>_police_incidents_count_White</th>\n",
       "    </tr>\n",
       "  </thead>\n",
       "  <tbody>\n",
       "    <tr>\n",
       "      <th>0</th>\n",
       "      <td>Armatage</td>\n",
       "      <td>1.0</td>\n",
       "      <td>20.0</td>\n",
       "      <td>2.0</td>\n",
       "    </tr>\n",
       "    <tr>\n",
       "      <th>1</th>\n",
       "      <td>Audubon Park</td>\n",
       "      <td>4.0</td>\n",
       "      <td>89.0</td>\n",
       "      <td>59.0</td>\n",
       "    </tr>\n",
       "  </tbody>\n",
       "</table>\n",
       "</div>"
      ],
      "text/plain": [
       "   neighborhood   _police_incidents_count_NA   _police_incidents_count_POC  \\\n",
       "0      Armatage                          1.0                          20.0   \n",
       "1  Audubon Park                          4.0                          89.0   \n",
       "\n",
       "    _police_incidents_count_White  \n",
       "0                             2.0  \n",
       "1                            59.0  "
      ]
     },
     "execution_count": 31,
     "metadata": {},
     "output_type": "execute_result"
    }
   ],
   "source": [
    "sr_cor_6.head(2)"
   ]
  },
  {
   "cell_type": "code",
   "execution_count": 32,
   "metadata": {},
   "outputs": [],
   "source": [
    "neighborhood_table_2  = pd.merge(FD_1, income_final_2, on='neighborhood', how= 'left')\n"
   ]
  },
  {
   "cell_type": "code",
   "execution_count": 33,
   "metadata": {},
   "outputs": [],
   "source": [
    "neigh_stats_final = neighborhood_table_2.drop(columns=['household_income_by_neighborhood_id','incomeless35000_count'\n",
    "                                                      ,'incomeless35000_percent','incomeless35to49_count','incomeless35to49_percent',\n",
    "                                                      'incomeless50to74_count','incomeless50to74_percent','incomeless75to99_count',\n",
    "                                                      'incomeless75to99_percent','income100plus_count','income100plus_percent'])"
   ]
  },
  {
   "cell_type": "code",
   "execution_count": 34,
   "metadata": {},
   "outputs": [
    {
     "data": {
      "text/html": [
       "<div>\n",
       "<style scoped>\n",
       "    .dataframe tbody tr th:only-of-type {\n",
       "        vertical-align: middle;\n",
       "    }\n",
       "\n",
       "    .dataframe tbody tr th {\n",
       "        vertical-align: top;\n",
       "    }\n",
       "\n",
       "    .dataframe thead th {\n",
       "        text-align: right;\n",
       "    }\n",
       "</style>\n",
       "<table border=\"1\" class=\"dataframe\">\n",
       "  <thead>\n",
       "    <tr style=\"text-align: right;\">\n",
       "      <th></th>\n",
       "      <th>neighborhood</th>\n",
       "      <th>police_force_incidents_count</th>\n",
       "      <th>neighborhood_id</th>\n",
       "      <th>median_income_total</th>\n",
       "    </tr>\n",
       "  </thead>\n",
       "  <tbody>\n",
       "    <tr>\n",
       "      <th>0</th>\n",
       "      <td>Armatage</td>\n",
       "      <td>36</td>\n",
       "      <td>1.0</td>\n",
       "      <td>125329.0</td>\n",
       "    </tr>\n",
       "    <tr>\n",
       "      <th>1</th>\n",
       "      <td>Audubon Park</td>\n",
       "      <td>165</td>\n",
       "      <td>10.0</td>\n",
       "      <td>67343.0</td>\n",
       "    </tr>\n",
       "    <tr>\n",
       "      <th>2</th>\n",
       "      <td>Bancroft</td>\n",
       "      <td>99</td>\n",
       "      <td>23.0</td>\n",
       "      <td>71456.0</td>\n",
       "    </tr>\n",
       "    <tr>\n",
       "      <th>3</th>\n",
       "      <td>Beltrami</td>\n",
       "      <td>118</td>\n",
       "      <td>NaN</td>\n",
       "      <td>NaN</td>\n",
       "    </tr>\n",
       "    <tr>\n",
       "      <th>4</th>\n",
       "      <td>Bottineau</td>\n",
       "      <td>96</td>\n",
       "      <td>NaN</td>\n",
       "      <td>NaN</td>\n",
       "    </tr>\n",
       "  </tbody>\n",
       "</table>\n",
       "</div>"
      ],
      "text/plain": [
       "   neighborhood  police_force_incidents_count  neighborhood_id  \\\n",
       "0      Armatage                            36              1.0   \n",
       "1  Audubon Park                           165             10.0   \n",
       "2      Bancroft                            99             23.0   \n",
       "3      Beltrami                           118              NaN   \n",
       "4     Bottineau                            96              NaN   \n",
       "\n",
       "   median_income_total  \n",
       "0             125329.0  \n",
       "1              67343.0  \n",
       "2              71456.0  \n",
       "3                  NaN  \n",
       "4                  NaN  "
      ]
     },
     "execution_count": 34,
     "metadata": {},
     "output_type": "execute_result"
    }
   ],
   "source": [
    "neigh_stats_final.head()"
   ]
  },
  {
   "cell_type": "code",
   "execution_count": 35,
   "metadata": {
    "scrolled": true
   },
   "outputs": [
    {
     "data": {
      "text/html": [
       "<div>\n",
       "<style scoped>\n",
       "    .dataframe tbody tr th:only-of-type {\n",
       "        vertical-align: middle;\n",
       "    }\n",
       "\n",
       "    .dataframe tbody tr th {\n",
       "        vertical-align: top;\n",
       "    }\n",
       "\n",
       "    .dataframe thead th {\n",
       "        text-align: right;\n",
       "    }\n",
       "</style>\n",
       "<table border=\"1\" class=\"dataframe\">\n",
       "  <thead>\n",
       "    <tr style=\"text-align: right;\">\n",
       "      <th></th>\n",
       "      <th>neighborhood</th>\n",
       "      <th>_police_incidents_count_NA</th>\n",
       "      <th>_police_incidents_count_POC</th>\n",
       "      <th>_police_incidents_count_White</th>\n",
       "    </tr>\n",
       "  </thead>\n",
       "  <tbody>\n",
       "    <tr>\n",
       "      <th>0</th>\n",
       "      <td>Armatage</td>\n",
       "      <td>1.0</td>\n",
       "      <td>20.0</td>\n",
       "      <td>2.0</td>\n",
       "    </tr>\n",
       "    <tr>\n",
       "      <th>1</th>\n",
       "      <td>Audubon Park</td>\n",
       "      <td>4.0</td>\n",
       "      <td>89.0</td>\n",
       "      <td>59.0</td>\n",
       "    </tr>\n",
       "    <tr>\n",
       "      <th>2</th>\n",
       "      <td>Bancroft</td>\n",
       "      <td>4.0</td>\n",
       "      <td>61.0</td>\n",
       "      <td>21.0</td>\n",
       "    </tr>\n",
       "    <tr>\n",
       "      <th>3</th>\n",
       "      <td>Beltrami</td>\n",
       "      <td>NaN</td>\n",
       "      <td>69.0</td>\n",
       "      <td>36.0</td>\n",
       "    </tr>\n",
       "    <tr>\n",
       "      <th>4</th>\n",
       "      <td>Bottineau</td>\n",
       "      <td>1.0</td>\n",
       "      <td>55.0</td>\n",
       "      <td>27.0</td>\n",
       "    </tr>\n",
       "    <tr>\n",
       "      <th>...</th>\n",
       "      <td>...</td>\n",
       "      <td>...</td>\n",
       "      <td>...</td>\n",
       "      <td>...</td>\n",
       "    </tr>\n",
       "    <tr>\n",
       "      <th>81</th>\n",
       "      <td>West Calhoun</td>\n",
       "      <td>1.0</td>\n",
       "      <td>5.0</td>\n",
       "      <td>25.0</td>\n",
       "    </tr>\n",
       "    <tr>\n",
       "      <th>82</th>\n",
       "      <td>Whittier</td>\n",
       "      <td>25.0</td>\n",
       "      <td>432.0</td>\n",
       "      <td>220.0</td>\n",
       "    </tr>\n",
       "    <tr>\n",
       "      <th>83</th>\n",
       "      <td>Willard - Hay</td>\n",
       "      <td>16.0</td>\n",
       "      <td>883.0</td>\n",
       "      <td>73.0</td>\n",
       "    </tr>\n",
       "    <tr>\n",
       "      <th>84</th>\n",
       "      <td>Windom</td>\n",
       "      <td>3.0</td>\n",
       "      <td>46.0</td>\n",
       "      <td>44.0</td>\n",
       "    </tr>\n",
       "    <tr>\n",
       "      <th>85</th>\n",
       "      <td>Windom Park</td>\n",
       "      <td>NaN</td>\n",
       "      <td>65.0</td>\n",
       "      <td>61.0</td>\n",
       "    </tr>\n",
       "  </tbody>\n",
       "</table>\n",
       "<p>86 rows × 4 columns</p>\n",
       "</div>"
      ],
      "text/plain": [
       "     neighborhood   _police_incidents_count_NA   _police_incidents_count_POC  \\\n",
       "0        Armatage                          1.0                          20.0   \n",
       "1    Audubon Park                          4.0                          89.0   \n",
       "2        Bancroft                          4.0                          61.0   \n",
       "3        Beltrami                          NaN                          69.0   \n",
       "4       Bottineau                          1.0                          55.0   \n",
       "..            ...                          ...                           ...   \n",
       "81   West Calhoun                          1.0                           5.0   \n",
       "82       Whittier                         25.0                         432.0   \n",
       "83  Willard - Hay                         16.0                         883.0   \n",
       "84         Windom                          3.0                          46.0   \n",
       "85    Windom Park                          NaN                          65.0   \n",
       "\n",
       "     _police_incidents_count_White  \n",
       "0                              2.0  \n",
       "1                             59.0  \n",
       "2                             21.0  \n",
       "3                             36.0  \n",
       "4                             27.0  \n",
       "..                             ...  \n",
       "81                            25.0  \n",
       "82                           220.0  \n",
       "83                            73.0  \n",
       "84                            44.0  \n",
       "85                            61.0  \n",
       "\n",
       "[86 rows x 4 columns]"
      ]
     },
     "execution_count": 35,
     "metadata": {},
     "output_type": "execute_result"
    }
   ],
   "source": [
    "sr_cor_6\n",
    "#sr_cor_6['total'] = sr_cor_6.sum(axis=1)"
   ]
  },
  {
   "cell_type": "code",
   "execution_count": 36,
   "metadata": {},
   "outputs": [
    {
     "name": "stdout",
     "output_type": "stream",
     "text": [
      "neighborhood\n",
      " _police_incidents_count_NA\n",
      " _police_incidents_count_POC\n",
      " _police_incidents_count_White\n"
     ]
    }
   ],
   "source": [
    "for col in sr_cor_6: \n",
    "    print(col) "
   ]
  },
  {
   "cell_type": "code",
   "execution_count": 37,
   "metadata": {},
   "outputs": [],
   "source": [
    "#sr_cor_6\n",
    "sr_cor_6['total'] = sr_cor_6.sum(axis=1)"
   ]
  },
  {
   "cell_type": "code",
   "execution_count": 38,
   "metadata": {},
   "outputs": [],
   "source": [
    "sr_cor_6['pct_POC']=sr_cor_6[' _police_incidents_count_POC']/sr_cor_6['total']\n",
    "sr_cor_6['pct_White']=sr_cor_6[' _police_incidents_count_White']/sr_cor_6['total']"
   ]
  },
  {
   "cell_type": "code",
   "execution_count": 39,
   "metadata": {},
   "outputs": [
    {
     "data": {
      "text/html": [
       "<div>\n",
       "<style scoped>\n",
       "    .dataframe tbody tr th:only-of-type {\n",
       "        vertical-align: middle;\n",
       "    }\n",
       "\n",
       "    .dataframe tbody tr th {\n",
       "        vertical-align: top;\n",
       "    }\n",
       "\n",
       "    .dataframe thead th {\n",
       "        text-align: right;\n",
       "    }\n",
       "</style>\n",
       "<table border=\"1\" class=\"dataframe\">\n",
       "  <thead>\n",
       "    <tr style=\"text-align: right;\">\n",
       "      <th></th>\n",
       "      <th>neighborhood</th>\n",
       "      <th>_police_incidents_count_NA</th>\n",
       "      <th>_police_incidents_count_POC</th>\n",
       "      <th>_police_incidents_count_White</th>\n",
       "      <th>total</th>\n",
       "      <th>pct_POC</th>\n",
       "      <th>pct_White</th>\n",
       "    </tr>\n",
       "  </thead>\n",
       "  <tbody>\n",
       "    <tr>\n",
       "      <th>0</th>\n",
       "      <td>Armatage</td>\n",
       "      <td>1.0</td>\n",
       "      <td>20.0</td>\n",
       "      <td>2.0</td>\n",
       "      <td>23.0</td>\n",
       "      <td>0.869565</td>\n",
       "      <td>0.086957</td>\n",
       "    </tr>\n",
       "    <tr>\n",
       "      <th>1</th>\n",
       "      <td>Audubon Park</td>\n",
       "      <td>4.0</td>\n",
       "      <td>89.0</td>\n",
       "      <td>59.0</td>\n",
       "      <td>152.0</td>\n",
       "      <td>0.585526</td>\n",
       "      <td>0.388158</td>\n",
       "    </tr>\n",
       "  </tbody>\n",
       "</table>\n",
       "</div>"
      ],
      "text/plain": [
       "   neighborhood   _police_incidents_count_NA   _police_incidents_count_POC  \\\n",
       "0      Armatage                          1.0                          20.0   \n",
       "1  Audubon Park                          4.0                          89.0   \n",
       "\n",
       "    _police_incidents_count_White  total   pct_POC  pct_White  \n",
       "0                             2.0   23.0  0.869565   0.086957  \n",
       "1                            59.0  152.0  0.585526   0.388158  "
      ]
     },
     "execution_count": 39,
     "metadata": {},
     "output_type": "execute_result"
    }
   ],
   "source": [
    "sr_cor_6.head(2)"
   ]
  },
  {
   "cell_type": "markdown",
   "metadata": {},
   "source": [
    "# Final StatsTable"
   ]
  },
  {
   "cell_type": "code",
   "execution_count": 40,
   "metadata": {},
   "outputs": [],
   "source": [
    "statsTable = pd.merge(neigh_stats_final, race_final_2, on='neighborhood', how= 'left')"
   ]
  },
  {
   "cell_type": "code",
   "execution_count": 41,
   "metadata": {},
   "outputs": [],
   "source": [
    "statsTable_sansNA = statsTable.dropna(subset=['white_pct','median_income_total'])"
   ]
  },
  {
   "cell_type": "code",
   "execution_count": 42,
   "metadata": {},
   "outputs": [],
   "source": [
    "statsTable = statsTable.rename(columns={'(sum, count)':'police_force_incidents_count'})"
   ]
  },
  {
   "cell_type": "code",
   "execution_count": 43,
   "metadata": {},
   "outputs": [
    {
     "data": {
      "text/html": [
       "<div>\n",
       "<style scoped>\n",
       "    .dataframe tbody tr th:only-of-type {\n",
       "        vertical-align: middle;\n",
       "    }\n",
       "\n",
       "    .dataframe tbody tr th {\n",
       "        vertical-align: top;\n",
       "    }\n",
       "\n",
       "    .dataframe thead th {\n",
       "        text-align: right;\n",
       "    }\n",
       "</style>\n",
       "<table border=\"1\" class=\"dataframe\">\n",
       "  <thead>\n",
       "    <tr style=\"text-align: right;\">\n",
       "      <th></th>\n",
       "      <th>neighborhood</th>\n",
       "      <th>police_force_incidents_count</th>\n",
       "      <th>neighborhood_id</th>\n",
       "      <th>median_income_total</th>\n",
       "      <th>white_pct</th>\n",
       "      <th>of_color_pct</th>\n",
       "    </tr>\n",
       "  </thead>\n",
       "  <tbody>\n",
       "    <tr>\n",
       "      <th>0</th>\n",
       "      <td>Armatage</td>\n",
       "      <td>36</td>\n",
       "      <td>1.0</td>\n",
       "      <td>125329.0</td>\n",
       "      <td>0.845</td>\n",
       "      <td>0.155051</td>\n",
       "    </tr>\n",
       "    <tr>\n",
       "      <th>1</th>\n",
       "      <td>Audubon Park</td>\n",
       "      <td>165</td>\n",
       "      <td>10.0</td>\n",
       "      <td>67343.0</td>\n",
       "      <td>0.788</td>\n",
       "      <td>0.211647</td>\n",
       "    </tr>\n",
       "    <tr>\n",
       "      <th>2</th>\n",
       "      <td>Bancroft</td>\n",
       "      <td>99</td>\n",
       "      <td>23.0</td>\n",
       "      <td>71456.0</td>\n",
       "      <td>0.734</td>\n",
       "      <td>0.266084</td>\n",
       "    </tr>\n",
       "    <tr>\n",
       "      <th>3</th>\n",
       "      <td>Beltrami</td>\n",
       "      <td>118</td>\n",
       "      <td>NaN</td>\n",
       "      <td>NaN</td>\n",
       "      <td>NaN</td>\n",
       "      <td>NaN</td>\n",
       "    </tr>\n",
       "    <tr>\n",
       "      <th>4</th>\n",
       "      <td>Bottineau</td>\n",
       "      <td>96</td>\n",
       "      <td>NaN</td>\n",
       "      <td>NaN</td>\n",
       "      <td>NaN</td>\n",
       "      <td>NaN</td>\n",
       "    </tr>\n",
       "  </tbody>\n",
       "</table>\n",
       "</div>"
      ],
      "text/plain": [
       "   neighborhood  police_force_incidents_count  neighborhood_id  \\\n",
       "0      Armatage                            36              1.0   \n",
       "1  Audubon Park                           165             10.0   \n",
       "2      Bancroft                            99             23.0   \n",
       "3      Beltrami                           118              NaN   \n",
       "4     Bottineau                            96              NaN   \n",
       "\n",
       "   median_income_total  white_pct  of_color_pct  \n",
       "0             125329.0      0.845      0.155051  \n",
       "1              67343.0      0.788      0.211647  \n",
       "2              71456.0      0.734      0.266084  \n",
       "3                  NaN        NaN           NaN  \n",
       "4                  NaN        NaN           NaN  "
      ]
     },
     "execution_count": 43,
     "metadata": {},
     "output_type": "execute_result"
    }
   ],
   "source": [
    "statsTable.head()"
   ]
  },
  {
   "cell_type": "code",
   "execution_count": 44,
   "metadata": {},
   "outputs": [],
   "source": [
    "#rain.sort_values(by=['date'], ascending=True)\n",
    "statsTable = statsTable.sort_values(by=['police_force_incidents_count'],ascending=False)"
   ]
  },
  {
   "cell_type": "code",
   "execution_count": 45,
   "metadata": {},
   "outputs": [],
   "source": [
    "#rain.sort_values(by=['date'], ascending=True)\n",
    "statsTable_sansNA = statsTable_sansNA.sort_values(by=['police_force_incidents_count'],ascending=False)"
   ]
  },
  {
   "cell_type": "code",
   "execution_count": 46,
   "metadata": {},
   "outputs": [],
   "source": [
    "statsTable_sansNA = statsTable_sansNA.reset_index()"
   ]
  },
  {
   "cell_type": "code",
   "execution_count": 47,
   "metadata": {},
   "outputs": [],
   "source": [
    "statsTable = statsTable.reset_index()"
   ]
  },
  {
   "cell_type": "code",
   "execution_count": 48,
   "metadata": {},
   "outputs": [],
   "source": [
    "#statsTable_sansNA\n",
    "#statsTable"
   ]
  },
  {
   "cell_type": "code",
   "execution_count": 49,
   "metadata": {},
   "outputs": [],
   "source": [
    "statsTable_sansNA = statsTable_sansNA.drop(columns=['index','neighborhood_id'])\n",
    "#statsTable_sansNA"
   ]
  },
  {
   "cell_type": "code",
   "execution_count": 50,
   "metadata": {},
   "outputs": [],
   "source": [
    "statsTable = statsTable.drop(columns=['index','neighborhood_id'])"
   ]
  },
  {
   "cell_type": "code",
   "execution_count": 51,
   "metadata": {},
   "outputs": [
    {
     "data": {
      "text/html": [
       "<div>\n",
       "<style scoped>\n",
       "    .dataframe tbody tr th:only-of-type {\n",
       "        vertical-align: middle;\n",
       "    }\n",
       "\n",
       "    .dataframe tbody tr th {\n",
       "        vertical-align: top;\n",
       "    }\n",
       "\n",
       "    .dataframe thead th {\n",
       "        text-align: right;\n",
       "    }\n",
       "</style>\n",
       "<table border=\"1\" class=\"dataframe\">\n",
       "  <thead>\n",
       "    <tr style=\"text-align: right;\">\n",
       "      <th></th>\n",
       "      <th>neighborhood</th>\n",
       "      <th>police_force_incidents_count</th>\n",
       "      <th>median_income_total</th>\n",
       "      <th>white_pct</th>\n",
       "      <th>of_color_pct</th>\n",
       "    </tr>\n",
       "  </thead>\n",
       "  <tbody>\n",
       "    <tr>\n",
       "      <th>0</th>\n",
       "      <td>Downtown West</td>\n",
       "      <td>7680</td>\n",
       "      <td>60383.0</td>\n",
       "      <td>0.601</td>\n",
       "      <td>0.399480</td>\n",
       "    </tr>\n",
       "    <tr>\n",
       "      <th>1</th>\n",
       "      <td>Jordan</td>\n",
       "      <td>1428</td>\n",
       "      <td>45907.0</td>\n",
       "      <td>0.175</td>\n",
       "      <td>0.824694</td>\n",
       "    </tr>\n",
       "    <tr>\n",
       "      <th>2</th>\n",
       "      <td>Hawthorne</td>\n",
       "      <td>1301</td>\n",
       "      <td>40378.0</td>\n",
       "      <td>0.218</td>\n",
       "      <td>0.782065</td>\n",
       "    </tr>\n",
       "    <tr>\n",
       "      <th>3</th>\n",
       "      <td>Near - North</td>\n",
       "      <td>1278</td>\n",
       "      <td>47087.0</td>\n",
       "      <td>0.154</td>\n",
       "      <td>0.846016</td>\n",
       "    </tr>\n",
       "    <tr>\n",
       "      <th>4</th>\n",
       "      <td>Willard - Hay</td>\n",
       "      <td>985</td>\n",
       "      <td>62908.0</td>\n",
       "      <td>0.276</td>\n",
       "      <td>0.723618</td>\n",
       "    </tr>\n",
       "  </tbody>\n",
       "</table>\n",
       "</div>"
      ],
      "text/plain": [
       "    neighborhood  police_force_incidents_count  median_income_total  \\\n",
       "0  Downtown West                          7680              60383.0   \n",
       "1         Jordan                          1428              45907.0   \n",
       "2      Hawthorne                          1301              40378.0   \n",
       "3   Near - North                          1278              47087.0   \n",
       "4  Willard - Hay                           985              62908.0   \n",
       "\n",
       "   white_pct  of_color_pct  \n",
       "0      0.601      0.399480  \n",
       "1      0.175      0.824694  \n",
       "2      0.218      0.782065  \n",
       "3      0.154      0.846016  \n",
       "4      0.276      0.723618  "
      ]
     },
     "execution_count": 51,
     "metadata": {},
     "output_type": "execute_result"
    }
   ],
   "source": [
    "statsTable_sansNA.head(5)"
   ]
  },
  {
   "cell_type": "markdown",
   "metadata": {},
   "source": [
    "# Statistics - Neighborhood"
   ]
  },
  {
   "cell_type": "code",
   "execution_count": 52,
   "metadata": {},
   "outputs": [],
   "source": [
    "force_inc = statsTable_sansNA['police_force_incidents_count']"
   ]
  },
  {
   "cell_type": "code",
   "execution_count": 53,
   "metadata": {},
   "outputs": [],
   "source": [
    "income = statsTable_sansNA['median_income_total']\n",
    "color_pct = statsTable_sansNA['of_color_pct']\n",
    "white_pct = statsTable_sansNA['white_pct']"
   ]
  },
  {
   "cell_type": "code",
   "execution_count": 54,
   "metadata": {},
   "outputs": [
    {
     "name": "stdout",
     "output_type": "stream",
     "text": [
      "The correlation between Use of Force & Income is -0.2243\n",
      "The correlation between Use of Force & Percent of Color is 0.3004\n",
      "The correlation between Use of Force & Percent White is -0.3001\n",
      "The correlation between Income & Percent of Color for MPLS Neighborhoods is -0.7086\n"
     ]
    }
   ],
   "source": [
    "correlation_1 = stats.pearsonr(force_inc, income)\n",
    "correlation_2 = stats.pearsonr(force_inc, color_pct)\n",
    "#correlation_3 = stats.pearsonr(force_inc, inc)\n",
    "correlation_4 = stats.pearsonr(income, color_pct)\n",
    "correlation_5 = stats.pearsonr(force_inc, white_pct)\n",
    "#correlation_6 = stats.pearsonr(inc, color_pct)\n",
    "#correlation_7 = stats.pearsonr(injured, color_pct_2)\n",
    "\n",
    "print(f\"The correlation between Use of Force & Income is {round(correlation_1[0],4)}\")\n",
    "print(f\"The correlation between Use of Force & Percent of Color is {round(correlation_2[0],4)}\")\n",
    "print(f\"The correlation between Use of Force & Percent White is {round(correlation_5[0],4)}\")\n",
    "print(f\"The correlation between Income & Percent of Color for MPLS Neighborhoods is {round(correlation_4[0],4)}\")\n",
    "\n"
   ]
  },
  {
   "cell_type": "code",
   "execution_count": 55,
   "metadata": {
    "scrolled": true
   },
   "outputs": [
    {
     "name": "stdout",
     "output_type": "stream",
     "text": [
      "-0.2243\n",
      "0.3004\n",
      "-0.3001\n",
      "-0.7086\n"
     ]
    }
   ],
   "source": [
    "print(round(correlation_1[0],4))\n",
    "print(round(correlation_2[0],4))\n",
    "#print(round(correlation_6[0],4))\n",
    "#print(round(correlation_3[0],4))\n",
    "print(round(correlation_5[0],4))\n",
    "print(round(correlation_4[0],4))\n",
    "#print(round(correlation_7[0],4))"
   ]
  },
  {
   "cell_type": "code",
   "execution_count": 56,
   "metadata": {},
   "outputs": [
    {
     "data": {
      "text/html": [
       "<div>\n",
       "<style scoped>\n",
       "    .dataframe tbody tr th:only-of-type {\n",
       "        vertical-align: middle;\n",
       "    }\n",
       "\n",
       "    .dataframe tbody tr th {\n",
       "        vertical-align: top;\n",
       "    }\n",
       "\n",
       "    .dataframe thead th {\n",
       "        text-align: right;\n",
       "    }\n",
       "</style>\n",
       "<table border=\"1\" class=\"dataframe\">\n",
       "  <thead>\n",
       "    <tr style=\"text-align: right;\">\n",
       "      <th></th>\n",
       "      <th>neighborhood</th>\n",
       "      <th>_police_incidents_count_NA</th>\n",
       "      <th>_police_incidents_count_POC</th>\n",
       "      <th>_police_incidents_count_White</th>\n",
       "      <th>total</th>\n",
       "      <th>pct_POC</th>\n",
       "      <th>pct_White</th>\n",
       "    </tr>\n",
       "  </thead>\n",
       "  <tbody>\n",
       "    <tr>\n",
       "      <th>0</th>\n",
       "      <td>Armatage</td>\n",
       "      <td>1.0</td>\n",
       "      <td>20.0</td>\n",
       "      <td>2.0</td>\n",
       "      <td>23.0</td>\n",
       "      <td>0.869565</td>\n",
       "      <td>0.086957</td>\n",
       "    </tr>\n",
       "    <tr>\n",
       "      <th>1</th>\n",
       "      <td>Audubon Park</td>\n",
       "      <td>4.0</td>\n",
       "      <td>89.0</td>\n",
       "      <td>59.0</td>\n",
       "      <td>152.0</td>\n",
       "      <td>0.585526</td>\n",
       "      <td>0.388158</td>\n",
       "    </tr>\n",
       "  </tbody>\n",
       "</table>\n",
       "</div>"
      ],
      "text/plain": [
       "   neighborhood   _police_incidents_count_NA   _police_incidents_count_POC  \\\n",
       "0      Armatage                          1.0                          20.0   \n",
       "1  Audubon Park                          4.0                          89.0   \n",
       "\n",
       "    _police_incidents_count_White  total   pct_POC  pct_White  \n",
       "0                             2.0   23.0  0.869565   0.086957  \n",
       "1                            59.0  152.0  0.585526   0.388158  "
      ]
     },
     "execution_count": 56,
     "metadata": {},
     "output_type": "execute_result"
    }
   ],
   "source": [
    "sr_cor_6.head(2)"
   ]
  },
  {
   "cell_type": "code",
   "execution_count": 57,
   "metadata": {},
   "outputs": [],
   "source": [
    "#sr_cor_6.to_csv(\"UGH.csv\", index=False, header=True)\n",
    "sr_cor_7 = sr_cor_6.dropna(subset=['pct_POC'])"
   ]
  },
  {
   "cell_type": "code",
   "execution_count": 58,
   "metadata": {},
   "outputs": [
    {
     "data": {
      "text/html": [
       "<div>\n",
       "<style scoped>\n",
       "    .dataframe tbody tr th:only-of-type {\n",
       "        vertical-align: middle;\n",
       "    }\n",
       "\n",
       "    .dataframe tbody tr th {\n",
       "        vertical-align: top;\n",
       "    }\n",
       "\n",
       "    .dataframe thead th {\n",
       "        text-align: right;\n",
       "    }\n",
       "</style>\n",
       "<table border=\"1\" class=\"dataframe\">\n",
       "  <thead>\n",
       "    <tr style=\"text-align: right;\">\n",
       "      <th></th>\n",
       "      <th>neighborhood</th>\n",
       "      <th>_police_incidents_count_NA</th>\n",
       "      <th>_police_incidents_count_POC</th>\n",
       "      <th>_police_incidents_count_White</th>\n",
       "      <th>total</th>\n",
       "      <th>pct_POC</th>\n",
       "      <th>pct_White</th>\n",
       "    </tr>\n",
       "  </thead>\n",
       "  <tbody>\n",
       "    <tr>\n",
       "      <th>0</th>\n",
       "      <td>Armatage</td>\n",
       "      <td>1.0</td>\n",
       "      <td>20.0</td>\n",
       "      <td>2.0</td>\n",
       "      <td>23.0</td>\n",
       "      <td>0.869565</td>\n",
       "      <td>0.086957</td>\n",
       "    </tr>\n",
       "    <tr>\n",
       "      <th>1</th>\n",
       "      <td>Audubon Park</td>\n",
       "      <td>4.0</td>\n",
       "      <td>89.0</td>\n",
       "      <td>59.0</td>\n",
       "      <td>152.0</td>\n",
       "      <td>0.585526</td>\n",
       "      <td>0.388158</td>\n",
       "    </tr>\n",
       "    <tr>\n",
       "      <th>2</th>\n",
       "      <td>Bancroft</td>\n",
       "      <td>4.0</td>\n",
       "      <td>61.0</td>\n",
       "      <td>21.0</td>\n",
       "      <td>86.0</td>\n",
       "      <td>0.709302</td>\n",
       "      <td>0.244186</td>\n",
       "    </tr>\n",
       "    <tr>\n",
       "      <th>3</th>\n",
       "      <td>Beltrami</td>\n",
       "      <td>NaN</td>\n",
       "      <td>69.0</td>\n",
       "      <td>36.0</td>\n",
       "      <td>105.0</td>\n",
       "      <td>0.657143</td>\n",
       "      <td>0.342857</td>\n",
       "    </tr>\n",
       "    <tr>\n",
       "      <th>4</th>\n",
       "      <td>Bottineau</td>\n",
       "      <td>1.0</td>\n",
       "      <td>55.0</td>\n",
       "      <td>27.0</td>\n",
       "      <td>83.0</td>\n",
       "      <td>0.662651</td>\n",
       "      <td>0.325301</td>\n",
       "    </tr>\n",
       "  </tbody>\n",
       "</table>\n",
       "</div>"
      ],
      "text/plain": [
       "   neighborhood   _police_incidents_count_NA   _police_incidents_count_POC  \\\n",
       "0      Armatage                          1.0                          20.0   \n",
       "1  Audubon Park                          4.0                          89.0   \n",
       "2      Bancroft                          4.0                          61.0   \n",
       "3      Beltrami                          NaN                          69.0   \n",
       "4     Bottineau                          1.0                          55.0   \n",
       "\n",
       "    _police_incidents_count_White  total   pct_POC  pct_White  \n",
       "0                             2.0   23.0  0.869565   0.086957  \n",
       "1                            59.0  152.0  0.585526   0.388158  \n",
       "2                            21.0   86.0  0.709302   0.244186  \n",
       "3                            36.0  105.0  0.657143   0.342857  \n",
       "4                            27.0   83.0  0.662651   0.325301  "
      ]
     },
     "execution_count": 58,
     "metadata": {},
     "output_type": "execute_result"
    }
   ],
   "source": [
    "sr_cor_7.head()"
   ]
  },
  {
   "cell_type": "code",
   "execution_count": 59,
   "metadata": {},
   "outputs": [],
   "source": [
    "FORCE_pcColor = sr_cor_7['pct_POC']\n",
    "FORCE_pcWhite = sr_cor_7['pct_White']\n",
    "FORCE_tTl = sr_cor_7['total']\n"
   ]
  },
  {
   "cell_type": "code",
   "execution_count": 60,
   "metadata": {},
   "outputs": [
    {
     "name": "stdout",
     "output_type": "stream",
     "text": [
      "The correlation between Use of Force & Subject Pct of Color is 0.1831\n"
     ]
    }
   ],
   "source": [
    "correlation_8 = stats.pearsonr(FORCE_tTl, FORCE_pcColor)\n",
    "\n",
    "\n",
    "print(f\"The correlation between Use of Force & Subject Pct of Color is {round(correlation_8[0],4)}\")\n",
    "\n"
   ]
  },
  {
   "cell_type": "code",
   "execution_count": 61,
   "metadata": {},
   "outputs": [],
   "source": [
    "statsTable_colorPop = statsTable_sansNA.loc[statsTable_sansNA['of_color_pct']>=.49]\n"
   ]
  },
  {
   "cell_type": "code",
   "execution_count": 62,
   "metadata": {},
   "outputs": [],
   "source": [
    "#statsTable_colorPop\n"
   ]
  },
  {
   "cell_type": "code",
   "execution_count": 63,
   "metadata": {},
   "outputs": [],
   "source": [
    "#statsTable_whitePop\n"
   ]
  },
  {
   "cell_type": "code",
   "execution_count": 64,
   "metadata": {},
   "outputs": [],
   "source": [
    "statsTable_whitePop = statsTable_sansNA.loc[statsTable_sansNA['of_color_pct']<.49]\n"
   ]
  },
  {
   "cell_type": "code",
   "execution_count": 65,
   "metadata": {},
   "outputs": [
    {
     "name": "stdout",
     "output_type": "stream",
     "text": [
      "767.0833333333334\n",
      "382.04545454545456\n"
     ]
    }
   ],
   "source": [
    "population_1 = statsTable_colorPop\n",
    "population_2 = statsTable_whitePop\n",
    "\n",
    "print(population_1.police_force_incidents_count.mean())\n",
    "print(population_2.police_force_incidents_count.mean())\n"
   ]
  },
  {
   "cell_type": "code",
   "execution_count": 66,
   "metadata": {},
   "outputs": [],
   "source": [
    "#population_1"
   ]
  },
  {
   "cell_type": "code",
   "execution_count": 67,
   "metadata": {},
   "outputs": [
    {
     "data": {
      "text/plain": [
       "Ttest_indResult(statistic=1.8479909166787314, pvalue=0.0705238001975571)"
      ]
     },
     "execution_count": 67,
     "metadata": {},
     "output_type": "execute_result"
    }
   ],
   "source": [
    "stats.ttest_ind(population_1.police_force_incidents_count, population_2.police_force_incidents_count, equal_var=False)\n",
    "\n"
   ]
  },
  {
   "cell_type": "markdown",
   "metadata": {},
   "source": [
    "# Statistcs - Force Data"
   ]
  },
  {
   "cell_type": "code",
   "execution_count": 68,
   "metadata": {},
   "outputs": [],
   "source": [
    "FD_Prob = FD_Prob.reset_index()"
   ]
  },
  {
   "cell_type": "code",
   "execution_count": 69,
   "metadata": {},
   "outputs": [
    {
     "data": {
      "text/html": [
       "<div>\n",
       "<style scoped>\n",
       "    .dataframe tbody tr th:only-of-type {\n",
       "        vertical-align: middle;\n",
       "    }\n",
       "\n",
       "    .dataframe tbody tr th {\n",
       "        vertical-align: top;\n",
       "    }\n",
       "\n",
       "    .dataframe thead th {\n",
       "        text-align: right;\n",
       "    }\n",
       "</style>\n",
       "<table border=\"1\" class=\"dataframe\">\n",
       "  <thead>\n",
       "    <tr style=\"text-align: right;\">\n",
       "      <th></th>\n",
       "      <th>subject_race</th>\n",
       "      <th>neighborhood</th>\n",
       "      <th>police_force_incidents_count</th>\n",
       "    </tr>\n",
       "  </thead>\n",
       "  <tbody>\n",
       "    <tr>\n",
       "      <th>0</th>\n",
       "      <td>Asian</td>\n",
       "      <td>Bancroft</td>\n",
       "      <td>2</td>\n",
       "    </tr>\n",
       "    <tr>\n",
       "      <th>1</th>\n",
       "      <td>Asian</td>\n",
       "      <td>Bottineau</td>\n",
       "      <td>2</td>\n",
       "    </tr>\n",
       "  </tbody>\n",
       "</table>\n",
       "</div>"
      ],
      "text/plain": [
       "  subject_race neighborhood  police_force_incidents_count\n",
       "0        Asian     Bancroft                             2\n",
       "1        Asian    Bottineau                             2"
      ]
     },
     "execution_count": 69,
     "metadata": {},
     "output_type": "execute_result"
    }
   ],
   "source": [
    "FD_Prob.head(2)"
   ]
  },
  {
   "cell_type": "code",
   "execution_count": 70,
   "metadata": {},
   "outputs": [],
   "source": [
    "#p1 = FD_Prob.loc[FD_Prob['subject_race']==\"POC\"]\n",
    "#p2= FD_Prob.loc[FD_Prob['subject_race']==\"White\"]"
   ]
  },
  {
   "cell_type": "code",
   "execution_count": 71,
   "metadata": {},
   "outputs": [],
   "source": [
    "#p2"
   ]
  },
  {
   "cell_type": "code",
   "execution_count": 72,
   "metadata": {},
   "outputs": [],
   "source": [
    "#print(p1.police_incidents_count.mean())\n",
    "#print(p2.police_incidents_count.mean())"
   ]
  },
  {
   "cell_type": "code",
   "execution_count": 73,
   "metadata": {},
   "outputs": [],
   "source": [
    "#stats.ttest_ind(p1.police_incidents_count, p2.police_incidents_count, equal_var=False)"
   ]
  },
  {
   "cell_type": "code",
   "execution_count": 74,
   "metadata": {},
   "outputs": [],
   "source": [
    "p_Azn = FD_Prob.loc[FD_Prob['subject_race']==\"Asian\"]\n",
    "p_Blk= FD_Prob.loc[FD_Prob['subject_race']==\"Black\"]\n",
    "p_NA= FD_Prob.loc[FD_Prob['subject_race']==\"Native American\"]\n",
    "p_Mix= FD_Prob.loc[FD_Prob['subject_race']==\"Other / Mixed Race\"]\n",
    "p_White= FD_Prob.loc[FD_Prob['subject_race']==\"White\"]"
   ]
  },
  {
   "cell_type": "code",
   "execution_count": 75,
   "metadata": {},
   "outputs": [
    {
     "data": {
      "text/html": [
       "<div>\n",
       "<style scoped>\n",
       "    .dataframe tbody tr th:only-of-type {\n",
       "        vertical-align: middle;\n",
       "    }\n",
       "\n",
       "    .dataframe tbody tr th {\n",
       "        vertical-align: top;\n",
       "    }\n",
       "\n",
       "    .dataframe thead th {\n",
       "        text-align: right;\n",
       "    }\n",
       "</style>\n",
       "<table border=\"1\" class=\"dataframe\">\n",
       "  <thead>\n",
       "    <tr style=\"text-align: right;\">\n",
       "      <th></th>\n",
       "      <th>subject_race</th>\n",
       "      <th>neighborhood</th>\n",
       "      <th>police_force_incidents_count</th>\n",
       "    </tr>\n",
       "  </thead>\n",
       "  <tbody>\n",
       "    <tr>\n",
       "      <th>39</th>\n",
       "      <td>Black</td>\n",
       "      <td>Armatage</td>\n",
       "      <td>9</td>\n",
       "    </tr>\n",
       "    <tr>\n",
       "      <th>40</th>\n",
       "      <td>Black</td>\n",
       "      <td>Audubon Park</td>\n",
       "      <td>80</td>\n",
       "    </tr>\n",
       "  </tbody>\n",
       "</table>\n",
       "</div>"
      ],
      "text/plain": [
       "   subject_race  neighborhood  police_force_incidents_count\n",
       "39        Black      Armatage                             9\n",
       "40        Black  Audubon Park                            80"
      ]
     },
     "execution_count": 75,
     "metadata": {},
     "output_type": "execute_result"
    }
   ],
   "source": [
    "p_Blk.head(2)"
   ]
  },
  {
   "cell_type": "code",
   "execution_count": 76,
   "metadata": {},
   "outputs": [
    {
     "name": "stdout",
     "output_type": "stream",
     "text": [
      "10.717948717948717\n",
      "210.14117647058825\n",
      "21.242857142857144\n",
      "14.931506849315069\n",
      "81.5813953488372\n"
     ]
    }
   ],
   "source": [
    "print(p_Azn.police_force_incidents_count.mean())\n",
    "print(p_Blk.police_force_incidents_count.mean())\n",
    "print(p_NA.police_force_incidents_count.mean())\n",
    "print(p_Mix.police_force_incidents_count.mean())\n",
    "print(p_White.police_force_incidents_count.mean())"
   ]
  },
  {
   "cell_type": "code",
   "execution_count": 77,
   "metadata": {},
   "outputs": [
    {
     "data": {
      "text/plain": [
       "Ttest_indResult(statistic=-3.0381431017441094, pvalue=0.003099836139189588)"
      ]
     },
     "execution_count": 77,
     "metadata": {},
     "output_type": "execute_result"
    }
   ],
   "source": [
    "stats.ttest_ind(p_Azn.police_force_incidents_count, p_White.police_force_incidents_count, equal_var=False)"
   ]
  },
  {
   "cell_type": "code",
   "execution_count": 78,
   "metadata": {},
   "outputs": [
    {
     "data": {
      "text/plain": [
       "Ttest_indResult(statistic=1.952995825416327, pvalue=0.053440710970622925)"
      ]
     },
     "execution_count": 78,
     "metadata": {},
     "output_type": "execute_result"
    }
   ],
   "source": [
    "stats.ttest_ind(p_Blk.police_force_incidents_count, p_White.police_force_incidents_count, equal_var=False)"
   ]
  },
  {
   "cell_type": "code",
   "execution_count": 79,
   "metadata": {},
   "outputs": [
    {
     "data": {
      "text/plain": [
       "Ttest_indResult(statistic=-2.6005840010300396, pvalue=0.010876373194916512)"
      ]
     },
     "execution_count": 79,
     "metadata": {},
     "output_type": "execute_result"
    }
   ],
   "source": [
    "stats.ttest_ind(p_NA.police_force_incidents_count, p_White.police_force_incidents_count, equal_var=False)"
   ]
  },
  {
   "cell_type": "code",
   "execution_count": 80,
   "metadata": {},
   "outputs": [
    {
     "data": {
      "text/plain": [
       "Ttest_indResult(statistic=-2.8918183344245554, pvalue=0.0048273752237824675)"
      ]
     },
     "execution_count": 80,
     "metadata": {},
     "output_type": "execute_result"
    }
   ],
   "source": [
    "stats.ttest_ind(p_Mix.police_force_incidents_count, p_White.police_force_incidents_count, equal_var=False)"
   ]
  },
  {
   "cell_type": "markdown",
   "metadata": {},
   "source": [
    "# Exporting"
   ]
  },
  {
   "cell_type": "code",
   "execution_count": 81,
   "metadata": {},
   "outputs": [],
   "source": [
    "#statsTable_sansNA['pct_force_incidents'] = statsTable_sansNA['pct_force_incidents'].astype(float).map(\"{:.2%}\".format)\n",
    "#statsTable_sansNA['white_pct'] = statsTable_sansNA['white_pct'].astype(float).map(\"{:.2%}\".format)\n",
    "#statsTable_sansNA['of_color_pct'] = statsTable_sansNA['of_color_pct'].astype(float).map(\"{:.2%}\".format)"
   ]
  },
  {
   "cell_type": "code",
   "execution_count": 82,
   "metadata": {},
   "outputs": [],
   "source": [
    "#statsTable['pct_force_incidents'] = statsTable['pct_force_incidents'].astype(float).map(\"{:.2%}\".format)\n",
    "statsTable['white_pct'] = statsTable['white_pct'].astype(float).map(\"{:.2%}\".format)\n",
    "statsTable['of_color_pct'] = statsTable['of_color_pct'].astype(float).map(\"{:.2%}\".format)"
   ]
  },
  {
   "cell_type": "code",
   "execution_count": 83,
   "metadata": {},
   "outputs": [],
   "source": [
    "statsTable_sansNA['median_income_total'] = statsTable_sansNA['median_income_total'].apply(lambda x: \"${:.1f}k\".format((x/1000)))\n",
    "statsTable['median_income_total'] = statsTable['median_income_total'].apply(lambda x: \"${:.1f}k\".format((x/1000)))"
   ]
  },
  {
   "cell_type": "code",
   "execution_count": 84,
   "metadata": {},
   "outputs": [],
   "source": [
    "#statsTable_sansNA.head(2)\n",
    "#statsTable_sansNA.dtypes()"
   ]
  },
  {
   "cell_type": "code",
   "execution_count": 85,
   "metadata": {},
   "outputs": [],
   "source": [
    "#statsTable_sansNA = statsTable_sansNA.rename(columns={''})"
   ]
  },
  {
   "cell_type": "code",
   "execution_count": 86,
   "metadata": {},
   "outputs": [],
   "source": [
    "statsTable.to_csv(\"target_files/statsTable.csv\", index=False, header=True)\n",
    "statsTable_sansNA.to_csv(\"target_files/statsTable_sansNA.csv\", index=False, header=True)"
   ]
  },
  {
   "cell_type": "code",
   "execution_count": 87,
   "metadata": {},
   "outputs": [],
   "source": [
    "FD_1.to_csv(\"target_files/forceCountQA.csv\", index=True, header=True)"
   ]
  }
 ],
 "metadata": {
  "kernelspec": {
   "display_name": "Python 3",
   "language": "python",
   "name": "python3"
  },
  "language_info": {
   "codemirror_mode": {
    "name": "ipython",
    "version": 3
   },
   "file_extension": ".py",
   "mimetype": "text/x-python",
   "name": "python",
   "nbconvert_exporter": "python",
   "pygments_lexer": "ipython3",
   "version": "3.7.7"
  }
 },
 "nbformat": 4,
 "nbformat_minor": 4
}
